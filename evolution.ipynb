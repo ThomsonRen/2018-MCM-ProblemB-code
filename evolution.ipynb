{
 "cells": [
  {
   "cell_type": "markdown",
   "metadata": {},
   "source": [
    "# 第二语言学习"
   ]
  },
  {
   "cell_type": "code",
   "execution_count": 1,
   "metadata": {
    "collapsed": true
   },
   "outputs": [],
   "source": [
    "import pandas as pd\n",
    "import numpy as np\n",
    "from tqdm import tnrange, tqdm_notebook\n",
    "import random\n",
    "df = pd.read_csv(\"result_data2.csv\")"
   ]
  },
  {
   "cell_type": "code",
   "execution_count": 2,
   "metadata": {
    "collapsed": true
   },
   "outputs": [],
   "source": [
    "#GDP_increase_rate = 0.06\n",
    "GDP_increase_rate = [0.03,0.08,0.02]\n",
    "limitation_of_Num = 1e6  #不考虑的语言限制\n",
    "group_num = 1e5  #计算群体的个数\n",
    "\n",
    "LOM = limitation_of_Num\n",
    "Countrys = df[\"Country\"]\n",
    "Languages = [\"Chinese\",\"English\",\"Hindi\",\"Urdu\",\"Spanish\",\"Arabic\",\"Malay\",\"Russian\",\"Bengali\",\"Portuguese\",\\\n",
    "             \"French\",\"Hausa\",\"Punjabi\",\"Japanese\",\"German\",\"Persian\"]\n",
    "Internet = {\"English\":1,\"Russian\":0.13,\"German\":0.11,\"Japanese\":0.10,\"Spanish\"\\\n",
    "                     :0.10,\"French\":0.08,\"Portuguese\":0.05,\"Italian\":0.05,\"Chinese\":0.04,\"Hindi\":0,\\\n",
    "                      \"Urdu\":0,\"Arabic\":0.01,\"Malay\":0,\"Bengali\":0,\"Persian\":0.03,\"Hausa\":0,\"Punjabi\":0}\n",
    "Academic = {\"Chinese\":0.24,\"English\":1,\"Hindi\":0,\"Urdu\":0,\"Spanish\":0.48,\"Arabic\":0.08,\"Malay\":0,\"Russian\":0.16,\"Bengali\":0,\\\n",
    "                      \"Portuguese\":0.09,\"French\":0.16,\"Hausa\":0,\"Japanese\":0.045,\"German\":0.06,\"Persian\":0,\"Punjabi\":0}\n",
    "Top10_economics = [\"Chinese\",\"English\",\"Hindi\",\"French\",\"Japanese\",\"German\"]\n",
    "Diplomacy = {\"Chinese\":0.093,\"English\":1,\"Hindi\":0.031,\"Urdu\":0,\"Spanish\":0.468,\"Arabic\":0.187,\"Malay\":0.031,\"Russian\":0.187,\"Bengali\":0,\\\n",
    "                      \"Portuguese\":0.312,\"French\":0.843,\"Hausa\":0,\"Japanese\":0,\"German\":0.093,\"Persian\":0,\"Punjabi\":0}"
   ]
  },
  {
   "cell_type": "code",
   "execution_count": 3,
   "metadata": {
    "collapsed": true
   },
   "outputs": [
    {
     "ename": "KeyError",
     "evalue": "'PPP'",
     "output_type": "error",
     "traceback": [
      "\u001b[0;31m---------------------------------------------------------------------------\u001b[0m",
      "\u001b[0;31mKeyError\u001b[0m                                  Traceback (most recent call last)",
      "\u001b[0;32mD:\\Anaconda\\lib\\site-packages\\pandas\\indexes\\base.py\u001b[0m in \u001b[0;36mget_loc\u001b[0;34m(self, key, method, tolerance)\u001b[0m\n\u001b[1;32m   1944\u001b[0m             \u001b[1;32mtry\u001b[0m\u001b[1;33m:\u001b[0m\u001b[1;33m\u001b[0m\u001b[0m\n\u001b[0;32m-> 1945\u001b[0;31m                 \u001b[1;32mreturn\u001b[0m \u001b[0mself\u001b[0m\u001b[1;33m.\u001b[0m\u001b[0m_engine\u001b[0m\u001b[1;33m.\u001b[0m\u001b[0mget_loc\u001b[0m\u001b[1;33m(\u001b[0m\u001b[0mkey\u001b[0m\u001b[1;33m)\u001b[0m\u001b[1;33m\u001b[0m\u001b[0m\n\u001b[0m\u001b[1;32m   1946\u001b[0m             \u001b[1;32mexcept\u001b[0m \u001b[0mKeyError\u001b[0m\u001b[1;33m:\u001b[0m\u001b[1;33m\u001b[0m\u001b[0m\n",
      "\u001b[0;32mpandas\\index.pyx\u001b[0m in \u001b[0;36mpandas.index.IndexEngine.get_loc (pandas\\index.c:4154)\u001b[0;34m()\u001b[0m\n",
      "\u001b[0;32mpandas\\index.pyx\u001b[0m in \u001b[0;36mpandas.index.IndexEngine.get_loc (pandas\\index.c:4018)\u001b[0;34m()\u001b[0m\n",
      "\u001b[0;32mpandas\\hashtable.pyx\u001b[0m in \u001b[0;36mpandas.hashtable.PyObjectHashTable.get_item (pandas\\hashtable.c:12368)\u001b[0;34m()\u001b[0m\n",
      "\u001b[0;32mpandas\\hashtable.pyx\u001b[0m in \u001b[0;36mpandas.hashtable.PyObjectHashTable.get_item (pandas\\hashtable.c:12322)\u001b[0;34m()\u001b[0m\n",
      "\u001b[0;31mKeyError\u001b[0m: 'PPP'",
      "\nDuring handling of the above exception, another exception occurred:\n",
      "\u001b[0;31mKeyError\u001b[0m                                  Traceback (most recent call last)",
      "\u001b[0;32m<ipython-input-3-58abf338f0e1>\u001b[0m in \u001b[0;36m<module>\u001b[0;34m()\u001b[0m\n\u001b[0;32m----> 1\u001b[0;31m \u001b[0mdeveloped_country\u001b[0m \u001b[1;33m=\u001b[0m \u001b[0mlist\u001b[0m\u001b[1;33m(\u001b[0m\u001b[0mdf\u001b[0m\u001b[1;33m[\u001b[0m\u001b[0mdf\u001b[0m\u001b[1;33m[\u001b[0m\u001b[1;34m\"PPP\"\u001b[0m\u001b[1;33m]\u001b[0m\u001b[1;33m>\u001b[0m\u001b[0mnp\u001b[0m\u001b[1;33m.\u001b[0m\u001b[0mmean\u001b[0m\u001b[1;33m(\u001b[0m\u001b[0mdf\u001b[0m\u001b[1;33m[\u001b[0m\u001b[1;34m\"PPP\"\u001b[0m\u001b[1;33m]\u001b[0m\u001b[1;33m)\u001b[0m\u001b[1;33m]\u001b[0m\u001b[1;33m[\u001b[0m\u001b[1;34m\"Country\"\u001b[0m\u001b[1;33m]\u001b[0m\u001b[1;33m)\u001b[0m\u001b[1;33m\u001b[0m\u001b[0m\n\u001b[0m\u001b[1;32m      2\u001b[0m \u001b[0mbackward_country\u001b[0m \u001b[1;33m=\u001b[0m \u001b[0mlist\u001b[0m\u001b[1;33m(\u001b[0m\u001b[0mdf\u001b[0m\u001b[1;33m[\u001b[0m\u001b[0mdf\u001b[0m\u001b[1;33m[\u001b[0m\u001b[1;34m\"PPP\"\u001b[0m\u001b[1;33m]\u001b[0m\u001b[1;33m<\u001b[0m\u001b[0mnp\u001b[0m\u001b[1;33m.\u001b[0m\u001b[0mmedian\u001b[0m\u001b[1;33m(\u001b[0m\u001b[0mdf\u001b[0m\u001b[1;33m[\u001b[0m\u001b[1;34m\"PPP\"\u001b[0m\u001b[1;33m]\u001b[0m\u001b[1;33m)\u001b[0m\u001b[1;33m]\u001b[0m\u001b[1;33m[\u001b[0m\u001b[1;34m\"Country\"\u001b[0m\u001b[1;33m]\u001b[0m\u001b[1;33m)\u001b[0m\u001b[1;33m\u001b[0m\u001b[0m\n",
      "\u001b[0;32mD:\\Anaconda\\lib\\site-packages\\pandas\\core\\frame.py\u001b[0m in \u001b[0;36m__getitem__\u001b[0;34m(self, key)\u001b[0m\n\u001b[1;32m   1995\u001b[0m             \u001b[1;32mreturn\u001b[0m \u001b[0mself\u001b[0m\u001b[1;33m.\u001b[0m\u001b[0m_getitem_multilevel\u001b[0m\u001b[1;33m(\u001b[0m\u001b[0mkey\u001b[0m\u001b[1;33m)\u001b[0m\u001b[1;33m\u001b[0m\u001b[0m\n\u001b[1;32m   1996\u001b[0m         \u001b[1;32melse\u001b[0m\u001b[1;33m:\u001b[0m\u001b[1;33m\u001b[0m\u001b[0m\n\u001b[0;32m-> 1997\u001b[0;31m             \u001b[1;32mreturn\u001b[0m \u001b[0mself\u001b[0m\u001b[1;33m.\u001b[0m\u001b[0m_getitem_column\u001b[0m\u001b[1;33m(\u001b[0m\u001b[0mkey\u001b[0m\u001b[1;33m)\u001b[0m\u001b[1;33m\u001b[0m\u001b[0m\n\u001b[0m\u001b[1;32m   1998\u001b[0m \u001b[1;33m\u001b[0m\u001b[0m\n\u001b[1;32m   1999\u001b[0m     \u001b[1;32mdef\u001b[0m \u001b[0m_getitem_column\u001b[0m\u001b[1;33m(\u001b[0m\u001b[0mself\u001b[0m\u001b[1;33m,\u001b[0m \u001b[0mkey\u001b[0m\u001b[1;33m)\u001b[0m\u001b[1;33m:\u001b[0m\u001b[1;33m\u001b[0m\u001b[0m\n",
      "\u001b[0;32mD:\\Anaconda\\lib\\site-packages\\pandas\\core\\frame.py\u001b[0m in \u001b[0;36m_getitem_column\u001b[0;34m(self, key)\u001b[0m\n\u001b[1;32m   2002\u001b[0m         \u001b[1;31m# get column\u001b[0m\u001b[1;33m\u001b[0m\u001b[1;33m\u001b[0m\u001b[0m\n\u001b[1;32m   2003\u001b[0m         \u001b[1;32mif\u001b[0m \u001b[0mself\u001b[0m\u001b[1;33m.\u001b[0m\u001b[0mcolumns\u001b[0m\u001b[1;33m.\u001b[0m\u001b[0mis_unique\u001b[0m\u001b[1;33m:\u001b[0m\u001b[1;33m\u001b[0m\u001b[0m\n\u001b[0;32m-> 2004\u001b[0;31m             \u001b[1;32mreturn\u001b[0m \u001b[0mself\u001b[0m\u001b[1;33m.\u001b[0m\u001b[0m_get_item_cache\u001b[0m\u001b[1;33m(\u001b[0m\u001b[0mkey\u001b[0m\u001b[1;33m)\u001b[0m\u001b[1;33m\u001b[0m\u001b[0m\n\u001b[0m\u001b[1;32m   2005\u001b[0m \u001b[1;33m\u001b[0m\u001b[0m\n\u001b[1;32m   2006\u001b[0m         \u001b[1;31m# duplicate columns & possible reduce dimensionality\u001b[0m\u001b[1;33m\u001b[0m\u001b[1;33m\u001b[0m\u001b[0m\n",
      "\u001b[0;32mD:\\Anaconda\\lib\\site-packages\\pandas\\core\\generic.py\u001b[0m in \u001b[0;36m_get_item_cache\u001b[0;34m(self, item)\u001b[0m\n\u001b[1;32m   1348\u001b[0m         \u001b[0mres\u001b[0m \u001b[1;33m=\u001b[0m \u001b[0mcache\u001b[0m\u001b[1;33m.\u001b[0m\u001b[0mget\u001b[0m\u001b[1;33m(\u001b[0m\u001b[0mitem\u001b[0m\u001b[1;33m)\u001b[0m\u001b[1;33m\u001b[0m\u001b[0m\n\u001b[1;32m   1349\u001b[0m         \u001b[1;32mif\u001b[0m \u001b[0mres\u001b[0m \u001b[1;32mis\u001b[0m \u001b[1;32mNone\u001b[0m\u001b[1;33m:\u001b[0m\u001b[1;33m\u001b[0m\u001b[0m\n\u001b[0;32m-> 1350\u001b[0;31m             \u001b[0mvalues\u001b[0m \u001b[1;33m=\u001b[0m \u001b[0mself\u001b[0m\u001b[1;33m.\u001b[0m\u001b[0m_data\u001b[0m\u001b[1;33m.\u001b[0m\u001b[0mget\u001b[0m\u001b[1;33m(\u001b[0m\u001b[0mitem\u001b[0m\u001b[1;33m)\u001b[0m\u001b[1;33m\u001b[0m\u001b[0m\n\u001b[0m\u001b[1;32m   1351\u001b[0m             \u001b[0mres\u001b[0m \u001b[1;33m=\u001b[0m \u001b[0mself\u001b[0m\u001b[1;33m.\u001b[0m\u001b[0m_box_item_values\u001b[0m\u001b[1;33m(\u001b[0m\u001b[0mitem\u001b[0m\u001b[1;33m,\u001b[0m \u001b[0mvalues\u001b[0m\u001b[1;33m)\u001b[0m\u001b[1;33m\u001b[0m\u001b[0m\n\u001b[1;32m   1352\u001b[0m             \u001b[0mcache\u001b[0m\u001b[1;33m[\u001b[0m\u001b[0mitem\u001b[0m\u001b[1;33m]\u001b[0m \u001b[1;33m=\u001b[0m \u001b[0mres\u001b[0m\u001b[1;33m\u001b[0m\u001b[0m\n",
      "\u001b[0;32mD:\\Anaconda\\lib\\site-packages\\pandas\\core\\internals.py\u001b[0m in \u001b[0;36mget\u001b[0;34m(self, item, fastpath)\u001b[0m\n\u001b[1;32m   3288\u001b[0m \u001b[1;33m\u001b[0m\u001b[0m\n\u001b[1;32m   3289\u001b[0m             \u001b[1;32mif\u001b[0m \u001b[1;32mnot\u001b[0m \u001b[0misnull\u001b[0m\u001b[1;33m(\u001b[0m\u001b[0mitem\u001b[0m\u001b[1;33m)\u001b[0m\u001b[1;33m:\u001b[0m\u001b[1;33m\u001b[0m\u001b[0m\n\u001b[0;32m-> 3290\u001b[0;31m                 \u001b[0mloc\u001b[0m \u001b[1;33m=\u001b[0m \u001b[0mself\u001b[0m\u001b[1;33m.\u001b[0m\u001b[0mitems\u001b[0m\u001b[1;33m.\u001b[0m\u001b[0mget_loc\u001b[0m\u001b[1;33m(\u001b[0m\u001b[0mitem\u001b[0m\u001b[1;33m)\u001b[0m\u001b[1;33m\u001b[0m\u001b[0m\n\u001b[0m\u001b[1;32m   3291\u001b[0m             \u001b[1;32melse\u001b[0m\u001b[1;33m:\u001b[0m\u001b[1;33m\u001b[0m\u001b[0m\n\u001b[1;32m   3292\u001b[0m                 \u001b[0mindexer\u001b[0m \u001b[1;33m=\u001b[0m \u001b[0mnp\u001b[0m\u001b[1;33m.\u001b[0m\u001b[0marange\u001b[0m\u001b[1;33m(\u001b[0m\u001b[0mlen\u001b[0m\u001b[1;33m(\u001b[0m\u001b[0mself\u001b[0m\u001b[1;33m.\u001b[0m\u001b[0mitems\u001b[0m\u001b[1;33m)\u001b[0m\u001b[1;33m)\u001b[0m\u001b[1;33m[\u001b[0m\u001b[0misnull\u001b[0m\u001b[1;33m(\u001b[0m\u001b[0mself\u001b[0m\u001b[1;33m.\u001b[0m\u001b[0mitems\u001b[0m\u001b[1;33m)\u001b[0m\u001b[1;33m]\u001b[0m\u001b[1;33m\u001b[0m\u001b[0m\n",
      "\u001b[0;32mD:\\Anaconda\\lib\\site-packages\\pandas\\indexes\\base.py\u001b[0m in \u001b[0;36mget_loc\u001b[0;34m(self, key, method, tolerance)\u001b[0m\n\u001b[1;32m   1945\u001b[0m                 \u001b[1;32mreturn\u001b[0m \u001b[0mself\u001b[0m\u001b[1;33m.\u001b[0m\u001b[0m_engine\u001b[0m\u001b[1;33m.\u001b[0m\u001b[0mget_loc\u001b[0m\u001b[1;33m(\u001b[0m\u001b[0mkey\u001b[0m\u001b[1;33m)\u001b[0m\u001b[1;33m\u001b[0m\u001b[0m\n\u001b[1;32m   1946\u001b[0m             \u001b[1;32mexcept\u001b[0m \u001b[0mKeyError\u001b[0m\u001b[1;33m:\u001b[0m\u001b[1;33m\u001b[0m\u001b[0m\n\u001b[0;32m-> 1947\u001b[0;31m                 \u001b[1;32mreturn\u001b[0m \u001b[0mself\u001b[0m\u001b[1;33m.\u001b[0m\u001b[0m_engine\u001b[0m\u001b[1;33m.\u001b[0m\u001b[0mget_loc\u001b[0m\u001b[1;33m(\u001b[0m\u001b[0mself\u001b[0m\u001b[1;33m.\u001b[0m\u001b[0m_maybe_cast_indexer\u001b[0m\u001b[1;33m(\u001b[0m\u001b[0mkey\u001b[0m\u001b[1;33m)\u001b[0m\u001b[1;33m)\u001b[0m\u001b[1;33m\u001b[0m\u001b[0m\n\u001b[0m\u001b[1;32m   1948\u001b[0m \u001b[1;33m\u001b[0m\u001b[0m\n\u001b[1;32m   1949\u001b[0m         \u001b[0mindexer\u001b[0m \u001b[1;33m=\u001b[0m \u001b[0mself\u001b[0m\u001b[1;33m.\u001b[0m\u001b[0mget_indexer\u001b[0m\u001b[1;33m(\u001b[0m\u001b[1;33m[\u001b[0m\u001b[0mkey\u001b[0m\u001b[1;33m]\u001b[0m\u001b[1;33m,\u001b[0m \u001b[0mmethod\u001b[0m\u001b[1;33m=\u001b[0m\u001b[0mmethod\u001b[0m\u001b[1;33m,\u001b[0m \u001b[0mtolerance\u001b[0m\u001b[1;33m=\u001b[0m\u001b[0mtolerance\u001b[0m\u001b[1;33m)\u001b[0m\u001b[1;33m\u001b[0m\u001b[0m\n",
      "\u001b[0;32mpandas\\index.pyx\u001b[0m in \u001b[0;36mpandas.index.IndexEngine.get_loc (pandas\\index.c:4154)\u001b[0;34m()\u001b[0m\n",
      "\u001b[0;32mpandas\\index.pyx\u001b[0m in \u001b[0;36mpandas.index.IndexEngine.get_loc (pandas\\index.c:4018)\u001b[0;34m()\u001b[0m\n",
      "\u001b[0;32mpandas\\hashtable.pyx\u001b[0m in \u001b[0;36mpandas.hashtable.PyObjectHashTable.get_item (pandas\\hashtable.c:12368)\u001b[0;34m()\u001b[0m\n",
      "\u001b[0;32mpandas\\hashtable.pyx\u001b[0m in \u001b[0;36mpandas.hashtable.PyObjectHashTable.get_item (pandas\\hashtable.c:12322)\u001b[0;34m()\u001b[0m\n",
      "\u001b[0;31mKeyError\u001b[0m: 'PPP'"
     ]
    }
   ],
   "source": [
    "developed_country = list(df[df[\"PPP\"]>np.mean(df[\"PPP\"])][\"Country\"])\n",
    "backward_country = list(df[df[\"PPP\"]<np.median(df[\"PPP\"])][\"Country\"])"
   ]
  },
  {
   "cell_type": "code",
   "execution_count": null,
   "metadata": {
    "collapsed": false
   },
   "outputs": [],
   "source": [
    "#求出说改语言的国家数NOC和总人数NOP,以及上年GDP\n",
    "def count(df):\n",
    "    df2 = df.copy()\n",
    "    NOP=[];NOC=[];GDP_list = []\n",
    "    for language in Languages:\n",
    "        #print(language)\n",
    "        NOC.append(np.sum(df2[language]>LOM))\n",
    "        NOP.append(np.sum(df2[df2[language]>LOM][language]))\n",
    "        GDP_list.append(np.sum(df2[df2[language]>LOM][\"GDP\"]))\n",
    "    NOC = NOC/np.max(NOC);NOP = NOP/np.max(NOP);\n",
    "    MAX = np.max(GDP_list)\n",
    "    for i in range(len(Languages)):\n",
    "        GDP_list[i] = GDP_list[i]/ MAX\n",
    "    return NOP,NOC,GDP_list"
   ]
  },
  {
   "cell_type": "code",
   "execution_count": null,
   "metadata": {
    "collapsed": true
   },
   "outputs": [],
   "source": [
    "#求出该国家目前已经有的language_list\n",
    "def find_offical_language(df,CountryName):\n",
    "    df2 = df.copy()\n",
    "    official_language_list = []\n",
    "    df3 = df2[df2[\"Country\"]== CountryName]\n",
    "    for language in Languages:\n",
    "        if (int(df3[language])>LOM):\n",
    "            official_language_list.append(language)\n",
    "    return official_language_list"
   ]
  },
  {
   "cell_type": "code",
   "execution_count": null,
   "metadata": {
    "collapsed": true
   },
   "outputs": [],
   "source": [
    "def Find_language(rank,num,temp_df):\n",
    "    for i in range(len(rank)):\n",
    "        if (rank[i] > num):\n",
    "            break\n",
    "    language = temp_df.index[i]\n",
    "    return language,i"
   ]
  },
  {
   "cell_type": "code",
   "execution_count": null,
   "metadata": {
    "collapsed": true
   },
   "outputs": [],
   "source": [
    "#求出对该国家几种语言的评价情况\n",
    "def ComprehensiveEvaluation(official_language_list,NOC,NOP,GDP_list):\n",
    "    i=0;w=[];w1=[];w2=[];w3=[];w4=[];w5=[];\n",
    "    for language in Languages:\n",
    "        if (language in official_language_list):\n",
    "            w1_a=1\n",
    "        else:\n",
    "            w1_a=0\n",
    "        w1_b = Internet[language]\n",
    "        w1.append(w1_a*0.5+w1_b*0.5)\n",
    "        w2.append(NOC[i]*0.5+NOP[i]*0.5)\n",
    "        if (language in Top10_economics):\n",
    "            w3_a = 1\n",
    "        else:\n",
    "            w3_a = 0\n",
    "        w3_b = GDP_list[i]\n",
    "        w3.append(w3_a *0.5 + w3_b *0.5)\n",
    "        w4.append(Academic[language])\n",
    "        w5.append(Diplomacy[language])\n",
    "        i=i+1\n",
    "    for i in range(len(Languages)):\n",
    "        w.append(w1[i]*0.3416+w2[i]*0.1967+w3[i]*0.3416+w4[i]*0.0732+w5[i]*0.0469)\n",
    "    w = w/np.sum(w)\n",
    "    return w"
   ]
  },
  {
   "cell_type": "code",
   "execution_count": null,
   "metadata": {
    "collapsed": true
   },
   "outputs": [],
   "source": [
    "def language_to_learn(df,CountryName):\n",
    "    median_GDP = np.median(df[\"GDP\"])\n",
    "    average_GDP = np.average(df[\"GDP\"])\n",
    "    GDP_this_year = int(df[df[\"Country\"] == CountryName].GDP)\n",
    "    if (GDP_this_year>average_GDP):\n",
    "        possbility1 = 0.4\n",
    "    elif (GDP_this_year>=median_GDP)&(GDP_this_year<=average_GDP):\n",
    "        possbility1 = 0.8\n",
    "    elif (GDP_this_year<median_GDP):\n",
    "        possbility1 = 0.2\n",
    "    else:\n",
    "        possbility1 = 0 \n",
    "    a = df[df[\"Country\"] == CountryName][Languages]>limitation_of_Num\n",
    "    a = a.T\n",
    "    diversity = int((np.sum(a)))\n",
    "    possbility2 = diversity/16\n",
    "    possbility = possbility1+possbility2\n",
    "    return possbility"
   ]
  },
  {
   "cell_type": "code",
   "execution_count": null,
   "metadata": {
    "collapsed": true
   },
   "outputs": [],
   "source": [
    "(NOP,NOC,GDP_list) = count(df)\n",
    "kk=0\n",
    "df_new = df.copy()\n",
    "for CountryName in tqdm_notebook(Countrys):\n",
    "    #print(CountryName)\n",
    "    official_language_list = find_offical_language(df,CountryName);\n",
    "    w = ComprehensiveEvaluation(official_language_list,NOC,NOP,GDP_list)\n",
    "    temp_df = pd.DataFrame(np.arange(len(Languages)).reshape((len(Languages),1)),index= Languages ,columns=['W'])\n",
    "    #print(temp_df)\n",
    "    for i in range(len(Languages)):\n",
    "        temp_df[\"W\"].iloc[i] = w[i]\n",
    "    temp_df = temp_df.sort_values(\"W\",ascending = False)\n",
    "    #print(temp_df)\n",
    "    for Num in range(10):\n",
    "        temp_df.iloc[-Num-1] = 0\n",
    "    rank = temp_df[\"W\"]\n",
    "    rank2 = [rank[0]]\n",
    "    for i in range(len(rank)-1):\n",
    "        rank2.append(rank2[-1]+rank[i+1])\n",
    "    temp_df[\"W\"]=rank2 # here we got the distribution\n",
    "    #print(temp_df)\n",
    "    population_this_year =  int(df[df[\"Country\"] == CountryName][\"Population\"])\n",
    "    rate =  float(df[df[\"Country\"] == CountryName][\"Net I-rate\"])\n",
    "    possbility = language_to_learn(df,CountryName)\n",
    "    Nest_year_language = [0]*len(Languages)\n",
    "    POP = int(population_this_year * rate * 0.01 * possbility)\n",
    "    \n",
    "    GnerNo = int(np.floor(POP/group_num)+1)\n",
    "    for i in range(GnerNo):\n",
    "        max_percent = int(100*np.max(rank2))\n",
    "        randnum = random.randint(0,max_percent)/100\n",
    "        (languageToLearn,index) = Find_language(rank2,randnum,temp_df)\n",
    "        if (POP>group_num):\n",
    "            Nest_year_language[index] += group_num\n",
    "            POP = POP - group_num\n",
    "        else:\n",
    "            Nest_year_language[index] += int(POP)\n",
    "    newborn_dic = {}\n",
    "    for i in range(len(Languages)):\n",
    "        ab = temp_df.index[i]\n",
    "        newborn_dic[temp_df.index[i]] = Nest_year_language[i] + int(df[df[\"Country\"]== CountryName][ab])\n",
    "    if CountryName in developed_country:\n",
    "        increase_rate = GDP_increase_rate[0]\n",
    "    elif CountryName in backward_country:\n",
    "        increase_rate = GDP_increase_rate[2]\n",
    "    else:\n",
    "        increase_rate = GDP_increase_rate[1]\n",
    "    GDP_new = int((df[df[\"Country\"] == CountryName][\"GDP\"]) * (increase_rate+1))\n",
    "    population_next_year = int(population_this_year * (rate*0.01+1)) \n",
    "    df_new.drop(df_new[df_new[\"Country\"]==CountryName].index,inplace = True)\n",
    "    df_new.loc[130+kk] = {\"Country\": CountryName,\"GDP\":GDP_new,\"Population\":population_next_year,\"Net I-rate\":rate,\\\n",
    "                                    \"Total\":0,\"Chinese\":newborn_dic[\"Chinese\"],\"English\":newborn_dic[\"English\"],\"Hindi\":newborn_dic[\"Hindi\"],\\\n",
    "                                     \"Urdu\":newborn_dic[\"Urdu\"],\"Spanish\":newborn_dic[\"Spanish\"],\"Arabic\":newborn_dic[\"Arabic\"],\"Malay\":newborn_dic[\"Malay\"],\\\n",
    "                                     \"Russian\":newborn_dic[\"Russian\"],\"Bengali\":newborn_dic[\"Bengali\"], \"Portuguese\":newborn_dic[\"Portuguese\"],\"French\":newborn_dic[\"French\"],\\\n",
    "                                     \"Hausa\":newborn_dic[\"Hausa\"],\"Punjabi\":newborn_dic[\"Punjabi\"],\"Japanese\":newborn_dic[\"Japanese\"],\"German\":newborn_dic[\"German\"],\"Persian\":newborn_dic[\"Persian\"]}\n",
    "    kk=kk+1\n",
    "df_new.reset_index(drop=True)\n",
    "df_new.to_csv(\"1.csv\",index = False)"
   ]
  },
  {
   "cell_type": "code",
   "execution_count": null,
   "metadata": {
    "collapsed": false
   },
   "outputs": [],
   "source": [
    "df_new.columns"
   ]
  },
  {
   "cell_type": "code",
   "execution_count": null,
   "metadata": {
    "collapsed": false
   },
   "outputs": [],
   "source": [
    "rate"
   ]
  },
  {
   "cell_type": "code",
   "execution_count": null,
   "metadata": {
    "collapsed": true
   },
   "outputs": [],
   "source": [
    "for year in range(50):\n",
    "    Name1 = str(year+1)+\".csv\"\n",
    "    df = pd.read_csv(Name1)\n",
    "    (NOP,NOC,GDP_list) = count(df)\n",
    "    kk=0\n",
    "    df_new = df.copy()\n",
    "    for CountryName in tqdm_notebook(Countrys):\n",
    "        official_language_list = find_offical_language(df,CountryName);\n",
    "        w = ComprehensiveEvaluation(official_language_list,NOC,NOP,GDP_list)\n",
    "        temp_df = pd.DataFrame(np.arange(len(Languages)).reshape((len(Languages),1)),index= Languages ,columns=['W'])\n",
    "        for i in range(len(Languages)):\n",
    "            temp_df[\"W\"].iloc[i] = w[i]\n",
    "        temp_df = temp_df.sort_values(\"W\",ascending = False)\n",
    "        for Num in range(5):\n",
    "            temp_df.iloc[-Num-1] = 0\n",
    "        rank = temp_df[\"W\"]\n",
    "        rank2 = [rank[0]]\n",
    "        for i in range(len(rank)-1):\n",
    "            rank2.append(rank2[-1]+rank[i+1])\n",
    "        temp_df[\"W\"]=rank2 # here we got the distribution\n",
    "        population_this_year =  int(df[df[\"Country\"] == CountryName][\"Population\"])\n",
    "        rate =  float(df[df[\"Country\"] == CountryName][\"Net I-rate\"])\n",
    "\n",
    "        Nest_year_language = [0]*len(Languages)\n",
    "        POP = int(population_this_year * rate * 0.01)\n",
    "        GnerNo = int(np.floor(POP/group_num)+1)\n",
    "        for i in range(GnerNo):\n",
    "            max_percent = int(100*np.max(rank2))\n",
    "            randnum = random.randint(0,max_percent)/100\n",
    "            (languageToLearn,index) = Find_language(rank2,randnum,temp_df)\n",
    "            if (POP>group_num):\n",
    "                Nest_year_language[index] += group_num\n",
    "                POP = POP - group_num\n",
    "            else:\n",
    "                Nest_year_language[index] += int(POP)\n",
    "        newborn_dic = {}\n",
    "        for i in range(len(Languages)):\n",
    "            ab = temp_df.index[i]\n",
    "            newborn_dic[temp_df.index[i]] = Nest_year_language[i] + int(df[df[\"Country\"]== CountryName][ab])\n",
    "        if CountryName in developed_country:\n",
    "            increase_rate = GDP_increase_rate[0]\n",
    "        elif CountryName in backward_country:\n",
    "            increase_rate = GDP_increase_rate[2]\n",
    "        else:\n",
    "            increase_rate = GDP_increase_rate[1]\n",
    "        GDP_new = int((df[df[\"Country\"] == CountryName][\"GDP\"]) * (increase_rate+1))\n",
    "        population_next_year = int(population_this_year * (rate*0.01+1))\n",
    "        df_new.drop(df_new[df_new[\"Country\"]==CountryName].index,inplace = True)\n",
    "        df_new.loc[130+kk] = {\"Country\": CountryName,\"GDP\":GDP_new,\"Population\":population_next_year,\"Net I-rate\":rate,\\\n",
    "                                        \"Total\":0,\"Chinese\":newborn_dic[\"Chinese\"],\"English\":newborn_dic[\"English\"],\"Hindi\":newborn_dic[\"Hindi\"],\\\n",
    "                                         \"Urdu\":newborn_dic[\"Urdu\"],\"Spanish\":newborn_dic[\"Spanish\"],\"Arabic\":newborn_dic[\"Arabic\"],\"Malay\":newborn_dic[\"Malay\"],\\\n",
    "                                         \"Russian\":newborn_dic[\"Russian\"],\"Bengali\":newborn_dic[\"Bengali\"], \"Portuguese\":newborn_dic[\"Portuguese\"],\"French\":newborn_dic[\"French\"],\\\n",
    "                                         \"Hausa\":newborn_dic[\"Hausa\"],\"Punjabi\":newborn_dic[\"Punjabi\"],\"Japanese\":newborn_dic[\"Japanese\"],\"German\":newborn_dic[\"German\"],\"Persian\":newborn_dic[\"Persian\"]}\n",
    "        kk=kk+1\n",
    "    df_new.reset_index(drop=True)\n",
    "    Name2 = str(year+2)+\".csv\"\n",
    "    df_new.to_csv(Name2,index = False)"
   ]
  },
  {
   "cell_type": "code",
   "execution_count": null,
   "metadata": {
    "collapsed": true
   },
   "outputs": [],
   "source": []
  }
 ],
 "metadata": {
  "anaconda-cloud": {},
  "kernelspec": {
   "display_name": "Python [conda root]",
   "language": "python",
   "name": "conda-root-py"
  },
  "language_info": {
   "codemirror_mode": {
    "name": "ipython",
    "version": 3
   },
   "file_extension": ".py",
   "mimetype": "text/x-python",
   "name": "python",
   "nbconvert_exporter": "python",
   "pygments_lexer": "ipython3",
   "version": "3.5.2"
  }
 },
 "nbformat": 4,
 "nbformat_minor": 1
}
