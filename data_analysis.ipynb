{
 "cells": [
  {
   "cell_type": "code",
   "execution_count": null,
   "metadata": {
    "collapsed": false
   },
   "outputs": [],
   "source": [
    "import pandas as pd\n",
    "import numpy as np\n",
    "import matplotlib.pyplot as plt\n",
    "#import seaborn as sns\n",
    "import matplotlib.path as mpath\n",
    "%matplotlib inline"
   ]
  },
  {
   "cell_type": "code",
   "execution_count": null,
   "metadata": {
    "collapsed": true
   },
   "outputs": [],
   "source": [
    "Languages = [\"Chinese\",\"English\",\"Hindi\",\"Urdu\",\"Spanish\",\"Arabic\",\"Malay\",\"Russian\",\"Bengali\",\"Portuguese\",\\\n",
    "             \"French\",\"Hausa\",\"Punjabi\",\"Japanese\",\"German\",\"Persian\"]\n",
    "column=[\"index\",\"Rank\"]\n",
    "for i in range(50):\n",
    "    string1 = \"Rank\"+str(i+1)\n",
    "    column.append(string1)\n",
    "for i in range(50):\n",
    "    string2 = \"Population\"+str(i+1)\n",
    "    column.append(string2) "
   ]
  },
  {
   "cell_type": "code",
   "execution_count": null,
   "metadata": {
    "collapsed": false,
    "scrolled": true
   },
   "outputs": [],
   "source": [
    "FileName =[0]*51\n",
    "for i in range(51):\n",
    "    FileName = str(i+1) +\".csv\"\n",
    "    data = pd.read_csv(FileName)\n",
    "    #Native = nat(data)\n",
    "    if i==0:\n",
    "        Final_number = data.sum()[Languages].sort_values(ascending = False)\n",
    "        Final_number = Final_number.reset_index()\n",
    "        Final_number.index = Final_number[\"index\"]\n",
    "        Final_number[\"Rank\"]= range(16)\n",
    "        df = Final_number\n",
    "    else:\n",
    "        Final_number = data.sum()[Languages].sort_values(ascending = False)\n",
    "        Final_number = Final_number.reset_index()\n",
    "        Final_number.index = Final_number[\"index\"]\n",
    "        key1 = \"Rank\" + str(i)\n",
    "        key2 = \"Population\" + str(i)\n",
    "        key3 = \"Native\" + str(i)\n",
    "        Final_number[key1]= range(16)\n",
    "        #Final_number[key3]= Native\n",
    "        #Final_number[key2]= \n",
    "        Final_number.columns = [\"index\",key2,key1]\n",
    "        df2 = pd.merge(df,Final_number,on = \"index\")\n",
    "        df = df2\n",
    "df = df[column]\n",
    "df.to_csv(\"rank.csv\",index = False)"
   ]
  },
  {
   "cell_type": "code",
   "execution_count": null,
   "metadata": {
    "collapsed": false
   },
   "outputs": [],
   "source": [
    "column=[\"index\",\"Rank\"]\n",
    "for i in range(50):\n",
    "    string1 = \"Rank\"+str(i+1)\n",
    "    column.append(string1)\n",
    "rank_df = df[column]\n",
    "rank_df.index = rank_df[\"index\"]\n",
    "rank_df = rank_df.drop(\"index\",axis=1)\n",
    "rank_df2 = rank_df.T\n",
    "years=[]\n",
    "for i in range(51):\n",
    "    years.append(i+2017)\n",
    "rank_df2[\"year\"] = years\n",
    "for i in range(len(rank_df2.index)):\n",
    "    for j in range(len(Languages)):\n",
    "        rank_df2.iloc[i,j]+=1"
   ]
  },
  {
   "cell_type": "code",
   "execution_count": null,
   "metadata": {
    "collapsed": false
   },
   "outputs": [],
   "source": [
    "x = rank_df2[\"year\"]\n",
    "y1 = rank_df2[\"Chinese\"];y2 = rank_df2[\"English\"];\n",
    "y3 = rank_df2[\"Hindi\"];y4 = rank_df2[\"Urdu\"];y5 = rank_df2[\"Spanish\"];y6 = rank_df2[\"Arabic\"];\n",
    "y7 = rank_df2[\"Malay\"];y8 = rank_df2[\"Russian\"];y9 = rank_df2[\"Bengali\"];y10 = rank_df2[\"Portuguese\"];\n",
    "y11 = rank_df2[\"French\"];y12 = rank_df2[\"Hausa\"];y13 = rank_df2[\"Punjabi\"];y14 = rank_df2[\"Japanese\"];\n",
    "y15 = rank_df2[\"German\"];y16 = rank_df2[\"Persian\"];"
   ]
  },
  {
   "cell_type": "code",
   "execution_count": null,
   "metadata": {
    "collapsed": false
   },
   "outputs": [],
   "source": [
    "plt.figure(figsize=(12,8))\n",
    "star = mpath.Path.unit_regular_star(1)\n",
    "circle = mpath.Path.unit_circle()\n",
    "# concatenate the circle with an internal cutout of the star\n",
    "verts = np.concatenate([circle.vertices, star.vertices[::-1, ...]])\n",
    "codes = np.concatenate([circle.codes, star.codes])\n",
    "cut_star = mpath.Path(verts, codes)\n",
    "labels = Languages\n",
    "#plt.plot(x,y1,x,y2,x,y2,x,y3,x,y4,x,y5,x,y6,x,y7,x,y8,x,y9,x,y10,x,y11,x,y12,x,y13,x,y14,x,y15,x,y16,'--r', marker=cut_star, markersize=0,label=[\"1\",'2'])\n",
    "plt.plot(x,y1,'--', marker='o', markersize=0,label=\"Chinese\")\n",
    "plt.plot(x,y2,'-', marker=cut_star, markersize=0,label=\"English\")\n",
    "plt.plot(x,y3,'-.', marker=cut_star, markersize=0,label=\"Hindi\")\n",
    "plt.plot(x,y4,'-.', marker=cut_star, markersize=0,label=\"Urdu\")\n",
    "plt.plot(x,y5,'-', marker=cut_star, markersize=0,label=\"Spanish\")\n",
    "plt.plot(x,y6,'-', marker=cut_star, markersize=0,label=\"Arabic\")\n",
    "plt.plot(x,y7,'-', marker=cut_star, markersize=2,label=\"Malay\")\n",
    "plt.plot(x,y8,'-', marker=cut_star, markersize=2,label=\"Russian\")\n",
    "plt.plot(x,y9,'-', marker=cut_star, markersize=0,label=\"Bengali\")\n",
    "plt.plot(x,y10,'-', marker=cut_star, markersize=0,label=\"Portuguese\")\n",
    "plt.plot(x,y11,'-', marker=cut_star, markersize=0,label=\"French\")\n",
    "plt.plot(x,y12,'-', marker=cut_star, markersize=2,label=\"Hausa\")\n",
    "plt.plot(x,y13,'-', marker=cut_star, markersize=0,label=\"Punjabi\")\n",
    "plt.plot(x,y14,'-', marker=cut_star, markersize=0,label=\"Japanese\")\n",
    "plt.plot(x,y15,'-', marker=cut_star, markersize=0,label=\"German\")\n",
    "plt.plot(x,y16,'-', marker=cut_star, markersize=0,label=\"Persian\")\n",
    "plt.xlim(xmax = 2083,xmin = 2016)\n",
    "plt.ylim(ymax = 0,ymin = 16)\n",
    "plt.title(\"Total Speaker Number Rank Over Time\")\n",
    "plt.legend(loc=5)\n",
    "plt.tick_params(bottom=False,top=False,right = False ,width=1)\n",
    "plt.show()"
   ]
  },
  {
   "cell_type": "code",
   "execution_count": null,
   "metadata": {
    "collapsed": false
   },
   "outputs": [],
   "source": [
    "column=[\"index\"]\n",
    "for i in range(50):\n",
    "    string1 = \"Population\"+str(i+1)\n",
    "    column.append(string1)\n",
    "pop_df = df[column]\n",
    "pop_df.index = pop_df[\"index\"]\n",
    "pop_df = pop_df.drop(\"index\",axis=1)\n",
    "pop_df2 = pop_df.T\n",
    "years=[]\n",
    "for i in range(50):\n",
    "    years.append(i+2017)\n",
    "pop_df2[\"year\"] = years"
   ]
  },
  {
   "cell_type": "code",
   "execution_count": null,
   "metadata": {
    "collapsed": false
   },
   "outputs": [],
   "source": [
    "pop_df2"
   ]
  },
  {
   "cell_type": "code",
   "execution_count": null,
   "metadata": {
    "collapsed": true
   },
   "outputs": [],
   "source": [
    "x = pop_df2[\"year\"]\n",
    "y1 = pop_df2[\"Chinese\"];y2 = pop_df2[\"English\"];\n",
    "y3 = pop_df2[\"Hindi\"];y4 = pop_df2[\"Urdu\"];y5 = pop_df2[\"Spanish\"];y6 = pop_df2[\"Arabic\"];\n",
    "y7 = pop_df2[\"Malay\"];y8 = pop_df2[\"Russian\"];y9 = pop_df2[\"Bengali\"];y10 = pop_df2[\"Portuguese\"];\n",
    "y11 = pop_df2[\"French\"];y12 = pop_df2[\"Hausa\"];y13 = pop_df2[\"Punjabi\"];y14 = pop_df2[\"Japanese\"];\n",
    "y15 = pop_df2[\"German\"];y16 = pop_df2[\"Persian\"];"
   ]
  },
  {
   "cell_type": "code",
   "execution_count": null,
   "metadata": {
    "collapsed": false,
    "scrolled": false
   },
   "outputs": [],
   "source": [
    "plt.figure(figsize=(12,8))\n",
    "star = mpath.Path.unit_regular_star(1)\n",
    "circle = mpath.Path.unit_circle()\n",
    "# concatenate the circle with an internal cutout of the star\n",
    "verts = np.concatenate([circle.vertices, star.vertices[::-1, ...]])\n",
    "codes = np.concatenate([circle.codes, star.codes])\n",
    "cut_star = mpath.Path(verts, codes)\n",
    "labels = Languages\n",
    "#plt.plot(x,y1,x,y2,x,y2,x,y3,x,y4,x,y5,x,y6,x,y7,x,y8,x,y9,x,y10,x,y11,x,y12,x,y13,x,y14,x,y15,x,y16,'--r', marker=cut_star, markersize=0,label=[\"1\",'2'])\n",
    "plt.plot(x,y1,'--', marker='o', markersize=0,label=\"Chinese\")\n",
    "plt.plot(x,y2,'-', marker=cut_star, markersize=0,label=\"English\")\n",
    "plt.plot(x,y3,'-.', marker=cut_star, markersize=0,label=\"Hindi\")\n",
    "plt.plot(x,y4,'-.', marker=cut_star, markersize=0,label=\"Urdu\")\n",
    "plt.plot(x,y5,'-', marker=cut_star, markersize=0,label=\"Spanish\")\n",
    "plt.plot(x,y6,'-', marker=cut_star, markersize=0,label=\"Arabic\")\n",
    "plt.plot(x,y7,'-', marker=cut_star, markersize=2,label=\"Malay\")\n",
    "plt.plot(x,y8,'-', marker=cut_star, markersize=2,label=\"Russian\")\n",
    "plt.plot(x,y9,'-', marker=cut_star, markersize=0,label=\"Bengali\")\n",
    "plt.plot(x,y10,'-', marker=cut_star, markersize=0,label=\"Portuguese\")\n",
    "plt.plot(x,y11,'-', marker=cut_star, markersize=0,label=\"French\")\n",
    "plt.plot(x,y12,'-', marker=cut_star, markersize=2,label=\"Hausa\")\n",
    "plt.plot(x,y13,'-', marker=cut_star, markersize=0,label=\"Punjabi\")\n",
    "plt.plot(x,y14,'-', marker=cut_star, markersize=0,label=\"Japanese\")\n",
    "plt.plot(x,y15,'-', marker=cut_star, markersize=0,label=\"German\")\n",
    "plt.plot(x,y16,'-', marker=cut_star, markersize=0,label=\"Persian\")\n",
    "plt.xlim(xmax = 2080,xmin = 2016)\n",
    "#plt.ylim(ymax = 3*1e9,ymin = -1e7)\n",
    "plt.title(\"Total Speaker Number Over Time\")\n",
    "plt.legend(loc=5)\n",
    "plt.tick_params(bottom=False,top=False,right = False ,width=1)\n",
    "plt.show()"
   ]
  },
  {
   "cell_type": "code",
   "execution_count": null,
   "metadata": {
    "collapsed": false
   },
   "outputs": [],
   "source": [
    "def nat(data):\n",
    "    data3 = data[Languages]\n",
    "    Native = [0]*16\n",
    "    j = 0\n",
    "    for language in Languages:\n",
    "        Native[j] = 0\n",
    "        for i in range(len(data3.index)):\n",
    "            a= list(data3.iloc[i])\n",
    "            index_lang = a.index(max(a))\n",
    "            lang = Languages[index_lang]\n",
    "            if lang == language:\n",
    "                Native[j] += int(data3.iloc[i][lang])\n",
    "        j=j+1    \n",
    "    return Native"
   ]
  },
  {
   "cell_type": "code",
   "execution_count": null,
   "metadata": {
    "collapsed": true
   },
   "outputs": [],
   "source": [
    "from tqdm import tnrange, tqdm_notebook"
   ]
  },
  {
   "cell_type": "code",
   "execution_count": null,
   "metadata": {
    "collapsed": false
   },
   "outputs": [],
   "source": [
    "mm = [[0]]*50\n",
    "for i in tqdm_notebook(range(50)):\n",
    "    FileName = str(i+1)+\".csv\"\n",
    "    data = pd.read_csv(FileName)\n",
    "    Native = nat(data)\n",
    "    mm[i] = Native"
   ]
  },
  {
   "cell_type": "code",
   "execution_count": null,
   "metadata": {
    "collapsed": false
   },
   "outputs": [],
   "source": [
    "df_mm = pd.DataFrame(np.arange(len(Languages)).reshape((len(Languages),1)),index= Languages ,columns=[\"A\"])"
   ]
  },
  {
   "cell_type": "code",
   "execution_count": null,
   "metadata": {
    "collapsed": false
   },
   "outputs": [],
   "source": [
    "for i in range(50):\n",
    "    name = \"year\"+str(i+1)\n",
    "    df_mm[name] = mm[i]"
   ]
  },
  {
   "cell_type": "code",
   "execution_count": null,
   "metadata": {
    "collapsed": false
   },
   "outputs": [],
   "source": [
    "df_mm.to_csv(\"native.csv\")"
   ]
  },
  {
   "cell_type": "code",
   "execution_count": null,
   "metadata": {
    "collapsed": false
   },
   "outputs": [],
   "source": [
    "mm"
   ]
  },
  {
   "cell_type": "code",
   "execution_count": null,
   "metadata": {
    "collapsed": false
   },
   "outputs": [],
   "source": [
    "y1 = [];y2 = [];y3 = [];y4= [];y5 = [];y6 = [];y7 = [];y8 = [];y9 = [];y10 = [];y11 = [];y12 = [];y13 = [];y14 = [];y15 = [];y16 = [];\n",
    "for i in range(50):\n",
    "    y1.append(mm[i][0])\n",
    "    y2.append(mm[i][1])\n",
    "    y3.append(mm[i][2])\n",
    "    y4.append(mm[i][3])\n",
    "    y5.append(mm[i][4])\n",
    "    y6.append(mm[i][5])\n",
    "    y7.append(mm[i][6])\n",
    "    y8.append(mm[i][7])\n",
    "    y9.append(mm[i][8])\n",
    "    y10.append(mm[i][9])\n",
    "    y11.append(mm[i][10])\n",
    "    y12.append(mm[i][11])   \n",
    "    y13.append(mm[i][12])\n",
    "    y14.append(mm[i][13])\n",
    "    y15.append(mm[i][14])\n",
    "    y16.append(mm[i][15])"
   ]
  },
  {
   "cell_type": "code",
   "execution_count": null,
   "metadata": {
    "collapsed": true
   },
   "outputs": [],
   "source": [
    "#x = x[0:-1]"
   ]
  },
  {
   "cell_type": "code",
   "execution_count": null,
   "metadata": {
    "collapsed": false
   },
   "outputs": [],
   "source": [
    "len(x)"
   ]
  },
  {
   "cell_type": "code",
   "execution_count": null,
   "metadata": {
    "collapsed": false
   },
   "outputs": [],
   "source": [
    "plt.figure(figsize=(12,8))\n",
    "star = mpath.Path.unit_regular_star(1)\n",
    "circle = mpath.Path.unit_circle()\n",
    "# concatenate the circle with an internal cutout of the star\n",
    "verts = np.concatenate([circle.vertices, star.vertices[::-1, ...]])\n",
    "codes = np.concatenate([circle.codes, star.codes])\n",
    "cut_star = mpath.Path(verts, codes)\n",
    "labels = Languages\n",
    "#plt.plot(x,y1,x,y2,x,y2,x,y3,x,y4,x,y5,x,y6,x,y7,x,y8,x,y9,x,y10,x,y11,x,y12,x,y13,x,y14,x,y15,x,y16,'--r', marker=cut_star, markersize=0,label=[\"1\",'2'])\n",
    "#plt.plot(x,y1,'--', marker='o', markersize=0,label=\"Chinese\")\n",
    "#plt.plot(x,y2,'-', marker=cut_star, markersize=0,label=\"English\")\n",
    "plt.plot(x,y3,'-.', marker=cut_star, markersize=0,label=\"Hindi\")\n",
    "plt.plot(x,y4,'-.', marker=cut_star, markersize=0,label=\"Urdu\")\n",
    "plt.plot(x,y5,'-', marker=cut_star, markersize=0,label=\"Spanish\")\n",
    "plt.plot(x,y6,'-', marker=cut_star, markersize=0,label=\"Arabic\")\n",
    "plt.plot(x,y7,'-', marker=cut_star, markersize=2,label=\"Malay\")\n",
    "plt.plot(x,y8,'-', marker=cut_star, markersize=2,label=\"Russian\")\n",
    "plt.plot(x,y9,'-', marker=cut_star, markersize=0,label=\"Bengali\")\n",
    "plt.plot(x,y10,'-', marker=cut_star, markersize=0,label=\"Portuguese\")\n",
    "plt.plot(x,y11,'-', marker=cut_star, markersize=0,label=\"French\")\n",
    "plt.plot(x,y12,'-', marker=cut_star, markersize=2,label=\"Hausa\")\n",
    "plt.plot(x,y13,'-', marker=cut_star, markersize=0,label=\"Punjabi\")\n",
    "plt.plot(x,y14,'-', marker=cut_star, markersize=0,label=\"Japanese\")\n",
    "plt.plot(x,y15,'-', marker=cut_star, markersize=0,label=\"German\")\n",
    "plt.plot(x,y16,'-', marker=cut_star, markersize=0,label=\"Persian\")\n",
    "plt.xlim(xmax = 2080,xmin = 2016)\n",
    "#plt.ylim(ymax = 5*1e8,ymin = -1e7)\n",
    "plt.title(\"Native Speaker Number Over Time\")\n",
    "plt.legend(loc=5)\n",
    "plt.tick_params(bottom=False,top=False,right = False ,width=1)\n",
    "plt.show()"
   ]
  },
  {
   "cell_type": "code",
   "execution_count": null,
   "metadata": {
    "collapsed": true
   },
   "outputs": [],
   "source": []
  },
  {
   "cell_type": "code",
   "execution_count": null,
   "metadata": {
    "collapsed": false
   },
   "outputs": [],
   "source": [
    "df_mm.head()"
   ]
  },
  {
   "cell_type": "code",
   "execution_count": null,
   "metadata": {
    "collapsed": false
   },
   "outputs": [],
   "source": [
    "for i in range(50):\n",
    "    if i==0:\n",
    "        Year = \"year\"+str(i+1)\n",
    "        Rank = \"Rank\"+str(i+1)\n",
    "        native_rank_df = df_mm[Year].sort_values(ascending = False)\n",
    "        native_rank_df = native_rank_df.reset_index()\n",
    "        native_rank_df[Rank] = range(1,17)\n",
    "        RANK_df = native_rank_df\n",
    "    else:\n",
    "        Year = \"year\"+str(i+1)\n",
    "        Rank = \"Rank\"+str(i+1)\n",
    "        native_rank_df = df_mm[Year].sort_values(ascending = False)\n",
    "        native_rank_df = native_rank_df.reset_index()\n",
    "        native_rank_df[Rank] = range(1,17)\n",
    "        RANK_df = pd.merge(RANK_df,native_rank_df,on=\"index\")"
   ]
  },
  {
   "cell_type": "code",
   "execution_count": null,
   "metadata": {
    "collapsed": true
   },
   "outputs": [],
   "source": [
    "ranklist =[]\n",
    "for i in range(50):\n",
    "    a = \"Rank\"+str(i+1)\n",
    "    ranklist.append(a)\n",
    "RANK_df.index = RANK_df[\"index\"]\n",
    "RANK_df = RANK_df[ranklist]  "
   ]
  },
  {
   "cell_type": "code",
   "execution_count": null,
   "metadata": {
    "collapsed": true
   },
   "outputs": [],
   "source": [
    "RANK_df = RANK_df.T"
   ]
  },
  {
   "cell_type": "code",
   "execution_count": null,
   "metadata": {
    "collapsed": true
   },
   "outputs": [],
   "source": [
    "RANK_df[\"year\"] = range(2017,2067)"
   ]
  },
  {
   "cell_type": "code",
   "execution_count": null,
   "metadata": {
    "collapsed": true
   },
   "outputs": [],
   "source": [
    "x = RANK_df[\"year\"]\n",
    "y1 = RANK_df[\"Chinese\"];y2 = RANK_df[\"English\"];\n",
    "y3 = RANK_df[\"Hindi\"];y4 = RANK_df[\"Urdu\"];y5 = RANK_df[\"Spanish\"];y6 = RANK_df[\"Arabic\"];\n",
    "y7 = RANK_df[\"Malay\"];y8 = RANK_df[\"Russian\"];y9 = RANK_df[\"Bengali\"];y10 = RANK_df[\"Portuguese\"];\n",
    "y11 = RANK_df[\"French\"];y12 = RANK_df[\"Hausa\"];y13 = RANK_df[\"Punjabi\"];y14 = RANK_df[\"Japanese\"];\n",
    "y15 = RANK_df[\"German\"];y16 = RANK_df[\"Persian\"];"
   ]
  },
  {
   "cell_type": "code",
   "execution_count": null,
   "metadata": {
    "collapsed": false
   },
   "outputs": [],
   "source": [
    "plt.figure(figsize=(12,8))\n",
    "star = mpath.Path.unit_regular_star(1)\n",
    "circle = mpath.Path.unit_circle()\n",
    "# concatenate the circle with an internal cutout of the star\n",
    "verts = np.concatenate([circle.vertices, star.vertices[::-1, ...]])\n",
    "codes = np.concatenate([circle.codes, star.codes])\n",
    "cut_star = mpath.Path(verts, codes)\n",
    "labels = Languages\n",
    "#plt.plot(x,y1,x,y2,x,y2,x,y3,x,y4,x,y5,x,y6,x,y7,x,y8,x,y9,x,y10,x,y11,x,y12,x,y13,x,y14,x,y15,x,y16,'--r', marker=cut_star, markersize=0,label=[\"1\",'2'])\n",
    "plt.plot(x,y1,'--', marker='o', markersize=0,label=\"Chinese\")\n",
    "plt.plot(x,y2,'-', marker=cut_star, markersize=0,label=\"English\")\n",
    "plt.plot(x,y3,'-.', marker=cut_star, markersize=0,label=\"Hindi\")\n",
    "plt.plot(x,y4,'-.', marker=cut_star, markersize=0,label=\"Urdu\")\n",
    "plt.plot(x,y5,'-', marker=cut_star, markersize=0,label=\"Spanish\")\n",
    "plt.plot(x,y6,'-', marker=cut_star, markersize=0,label=\"Arabic\")\n",
    "plt.plot(x,y7,'-', marker=cut_star, markersize=2,label=\"Malay\")\n",
    "plt.plot(x,y8,'-', marker=cut_star, markersize=2,label=\"Russian\")\n",
    "plt.plot(x,y9,'-', marker=cut_star, markersize=0,label=\"Bengali\")\n",
    "plt.plot(x,y10,'-', marker=cut_star, markersize=0,label=\"Portuguese\")\n",
    "plt.plot(x,y11,'-', marker=cut_star, markersize=0,label=\"French\")\n",
    "plt.plot(x,y12,'-', marker=cut_star, markersize=2,label=\"Hausa\")\n",
    "plt.plot(x,y13,'-', marker=cut_star, markersize=0,label=\"Punjabi\")\n",
    "plt.plot(x,y14,'-', marker=cut_star, markersize=0,label=\"Japanese\")\n",
    "plt.plot(x,y15,'-', marker=cut_star, markersize=0,label=\"German\")\n",
    "plt.plot(x,y16,'-', marker=cut_star, markersize=0,label=\"Persian\")\n",
    "plt.xlim(xmax = 2083,xmin = 2016)\n",
    "plt.ylim(ymax = 0,ymin = 16)\n",
    "plt.title(\"Native Speaker Number Rank Over Time\")\n",
    "plt.legend(loc=5)\n",
    "plt.tick_params(bottom=False,top=False,right = False ,width=1)\n",
    "plt.show()"
   ]
  },
  {
   "cell_type": "code",
   "execution_count": null,
   "metadata": {
    "collapsed": false
   },
   "outputs": [],
   "source": [
    "RANK_df"
   ]
  },
  {
   "cell_type": "code",
   "execution_count": null,
   "metadata": {
    "collapsed": true
   },
   "outputs": [],
   "source": []
  }
 ],
 "metadata": {
  "anaconda-cloud": {},
  "kernelspec": {
   "display_name": "Python [conda root]",
   "language": "python",
   "name": "conda-root-py"
  },
  "language_info": {
   "codemirror_mode": {
    "name": "ipython",
    "version": 3
   },
   "file_extension": ".py",
   "mimetype": "text/x-python",
   "name": "python",
   "nbconvert_exporter": "python",
   "pygments_lexer": "ipython3",
   "version": "3.5.2"
  }
 },
 "nbformat": 4,
 "nbformat_minor": 1
}
