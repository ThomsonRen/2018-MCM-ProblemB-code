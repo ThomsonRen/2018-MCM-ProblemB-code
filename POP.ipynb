{
 "cells": [
  {
   "cell_type": "code",
   "execution_count": null,
   "metadata": {
    "collapsed": true
   },
   "outputs": [],
   "source": [
    "import pandas as pd\n",
    "import numpy as np\n",
    "import matplotlib.pyplot as plt\n",
    "from matplotlib import colors;from matplotlib import cm;\n",
    "%matplotlib inline"
   ]
  },
  {
   "cell_type": "code",
   "execution_count": null,
   "metadata": {
    "collapsed": true
   },
   "outputs": [],
   "source": [
    "data = pd.read_csv(\"POP.csv\")"
   ]
  },
  {
   "cell_type": "code",
   "execution_count": null,
   "metadata": {
    "collapsed": false
   },
   "outputs": [],
   "source": [
    "data.head()"
   ]
  },
  {
   "cell_type": "code",
   "execution_count": null,
   "metadata": {
    "collapsed": false,
    "scrolled": true
   },
   "outputs": [],
   "source": [
    "data = data[[\"Country\",\"Num\"]]\n",
    "df2 = data.sort_values(\"Num\",ascending = True)\n",
    "df2 = df2.reset_index()\n",
    "df2 = df2[[\"Country\",\"Num\"]]"
   ]
  },
  {
   "cell_type": "code",
   "execution_count": null,
   "metadata": {
    "collapsed": true
   },
   "outputs": [],
   "source": [
    "def MaxMinNormalization(x,Max,Min): \n",
    "    x = (x - Min) / (Max - Min); \n",
    "    return x;"
   ]
  },
  {
   "cell_type": "code",
   "execution_count": null,
   "metadata": {
    "collapsed": false
   },
   "outputs": [],
   "source": [
    "Max = max(np.log(df2[\"Num\"]))\n",
    "Min = min(np.log(df2[\"Num\"]))\n",
    "Max"
   ]
  },
  {
   "cell_type": "code",
   "execution_count": null,
   "metadata": {
    "collapsed": false
   },
   "outputs": [],
   "source": [
    "#Data to plot\n",
    "plt.figure(figsize=(24,24))#调节图片大小\n",
    "labels = df2[\"Country\"]\n",
    "sizes = df2[\"Num\"]\n",
    "cmap = cm.get_cmap('gist_ncar')\n",
    "colors = {}\n",
    "for i in range(len(df2[\"Num\"])):\n",
    "    colors.append(cmap(MaxMinNormalization(np.log(df2[\"Num\"].iloc[i]),22,5))\n",
    "#plt.pie(sizes, labels=labels, colors=colors,autopct='%1.1f%%', shadow=True, startangle=140)\n",
    "#plt.axis('equal')\n",
    "#plt.show()"
   ]
  },
  {
   "cell_type": "code",
   "execution_count": null,
   "metadata": {
    "collapsed": true
   },
   "outputs": [],
   "source": [
    "sizes = [0.598908336,0.344162637,0.055697678,0.001231349]\n",
    "labels = [\"Rank1-10\",\"Rank11-60\",\"Rank61-88\",\"Others\"]"
   ]
  },
  {
   "cell_type": "code",
   "execution_count": null,
   "metadata": {
    "collapsed": false,
    "scrolled": false
   },
   "outputs": [],
   "source": [
    "#Data to plot\n",
    "plt.figure(figsize=(6,4))#调节图片大小\n",
    "cmap = cm.get_cmap('gist_ncar')\n",
    "colors = [cmap(0.15),cmap(0.25),cmap(0.5),cmap(0.75)]\n",
    "#plt.pie(sizes,  colors=colors,startangle=140)\n",
    "explode = (0.1, 0, 0, 0)  # explode 1st slice\n",
    "#plt.tight_layout()\n",
    "plt.pie(sizes, explode=explode, labels=labels, colors=colors,\n",
    "        autopct='%1.1f%%', shadow=True, startangle=0)\n",
    "plt.axis('equal')\n",
    "plt.show()"
   ]
  },
  {
   "cell_type": "code",
   "execution_count": null,
   "metadata": {
    "collapsed": false
   },
   "outputs": [],
   "source": [
    "plt.legend?"
   ]
  },
  {
   "cell_type": "code",
   "execution_count": null,
   "metadata": {
    "collapsed": true
   },
   "outputs": [],
   "source": []
  }
 ],
 "metadata": {
  "anaconda-cloud": {},
  "kernelspec": {
   "display_name": "Python [conda root]",
   "language": "python",
   "name": "conda-root-py"
  },
  "language_info": {
   "codemirror_mode": {
    "name": "ipython",
    "version": 3
   },
   "file_extension": ".py",
   "mimetype": "text/x-python",
   "name": "python",
   "nbconvert_exporter": "python",
   "pygments_lexer": "ipython3",
   "version": "3.5.2"
  }
 },
 "nbformat": 4,
 "nbformat_minor": 1
}
