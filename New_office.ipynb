{
 "cells": [
  {
   "cell_type": "code",
   "execution_count": null,
   "metadata": {
    "collapsed": false
   },
   "outputs": [],
   "source": [
    "import pandas as pd\n",
    "import time\n",
    "import numpy as np \n",
    "from mpl_toolkits.basemap import Basemap\n",
    "from tqdm import tnrange, tqdm_notebook\n",
    "import matplotlib.pyplot as plt;from matplotlib import colors;from matplotlib import cm;\n",
    "%matplotlib inline"
   ]
  },
  {
   "cell_type": "code",
   "execution_count": null,
   "metadata": {
    "collapsed": false
   },
   "outputs": [],
   "source": [
    "data = pd.read_csv(\"result_data2.csv\")\n",
    "coor = pd.read_csv(\"Countries_location.csv\")"
   ]
  },
  {
   "cell_type": "code",
   "execution_count": null,
   "metadata": {
    "collapsed": false
   },
   "outputs": [],
   "source": [
    "#coor.iloc[28][\"longitude\"] = 31.23\n",
    "#coor.iloc[\"China\",\"latitude\"] = 121.47\n",
    "coor.loc[130] = {\"Country\": \"China2\",\"longitude\":31.23,\"latitude\":121.47}"
   ]
  },
  {
   "cell_type": "code",
   "execution_count": null,
   "metadata": {
    "collapsed": false
   },
   "outputs": [],
   "source": [
    "countrys = data[\"Country\"]\n",
    "Languages = [\"Chinese\",\"English\",\"Hindi\",\"Urdu\",\"Spanish\",\"Arabic\",\"Malay\",\"Russian\",\"Bengali\",\"Portuguese\",\\\n",
    "             \"French\",\"Hausa\",\"Punjabi\",\"Japanese\",\"German\",\"Persian\"]\n",
    "color_dic = {\"English\":\"blue\",\"Russian\":\"grey\",\"German\":\"olive\",\"Japanese\":\"orange\",\"Spanish\"\\\n",
    "                     :\"purple\",\"French\":\"cyan\",\"Portuguese\":\"gray\",\"Italian\":\"pink\",\"Chinese\":\"red\",\"Hindi\":\"green\",\\\n",
    "                      \"Urdu\":\"green\",\"Arabic\":\"yellow\",\"Malay\":\"black\",\"Bengali\":\"hotpink\",\"Persian\":\"skyblue\",\"Hausa\":\"brown\",\"Punjabi\":\"gold\"}"
   ]
  },
  {
   "cell_type": "code",
   "execution_count": null,
   "metadata": {
    "collapsed": false
   },
   "outputs": [],
   "source": [
    "Group1 = [\"Nigeria\",\"Morocco\",\"Algeria\",\"South Africa\",\"Egypt\"]\n",
    "Group2 = [\"China2\",\"Vietnam\",\"Bangladesh\",\"Singapore\",\"Thailand\",\"Republic of Korea\",\"Japan\",\"Malaysia\",\"Philippines\",\"Indonesia\"]\n",
    "Group3 = [\"India\",\"Pakistan\",\"Armenia\",\"Kazakhstan\",\"Kyrgyzstan\",\"Iraq\",\"Iran (Islamic Republic of)\",\"Saudi Arabia\",\"Russian Federation\"]\n",
    "Group4 = [\"Italy\",\"Hungary\",\"Greece\",\"Austria\",\"Poland\",\"Romania\",\"Czechia\",\"Finland\"]\n",
    "Group5 = [\"Germany\",\"Belgium\",\"Switzerland\",\"Netherlands\",\"France\",\"United Kingdom\",\"Portugal\",\"Spain\"]\n",
    "Group6 = [\"United States of America\",\"Puerto Rico\",\"Mexico\",\"Canada\"]\n",
    "Group7 = [\"Brazil\",\"Peru\",\"Chile\",\"Colombia\",\"Venezuela (Bolivarian Republic of)\",\"Argentina\"]\n",
    "Group8 = [\"Australia\",\"New Zealand\"]"
   ]
  },
  {
   "cell_type": "code",
   "execution_count": null,
   "metadata": {
    "collapsed": true
   },
   "outputs": [],
   "source": [
    "Group_5_1 = [\"Nigeria\",\"Morocco\",\"Algeria\",\"South Africa\",\"Egypt\"]\n",
    "Group_5_2 = [\"China2\",\"Vietnam\",\"Bangladesh\",\"Singapore\",\"Thailand\",\"Republic of Korea\",\"Japan\",\"Malaysia\",\"Philippines\",\"Indonesia\"]\n",
    "Group_5_3 = [\"India\",\"Pakistan\",\"Armenia\",\"Kazakhstan\",\"Kyrgyzstan\",\"Iraq\",\"Iran (Islamic Republic of)\",\"Saudi Arabia\",\"Russian Federation\"]\n",
    "Group_5_4 = [\"Germany\",\"Hungary\",\"Greece\",\"Austria\",\"Poland\",\"Romania\",\"Czechia\",\"Finland\",\"Italy\",\"Belgium\",\"Switzerland\",\"Netherlands\",\"France\",\"United Kingdom\",\"Portugal\",\"Spain\"]\n",
    "Group_5_5 = [\"United States of America\",\"Puerto Rico\",\"Mexico\",\"Canada\"]\n",
    "Group_5_6 = [\"Brazil\",\"Peru\",\"Chile\",\"Colombia\",\"Venezuela (Bolivarian Republic of)\",\"Argentina\"]\n",
    "Group_5_7 = [\"Australia\",\"New Zealand\"]"
   ]
  },
  {
   "cell_type": "code",
   "execution_count": null,
   "metadata": {
    "collapsed": true
   },
   "outputs": [],
   "source": [
    "def draw_group(GroupName,color):\n",
    "    num = len(GroupName)\n",
    "    for i in range(num):\n",
    "        if i == 0:\n",
    "            lat1 = float(coor[coor[\"Country\"] == GroupName[0]].latitude)\n",
    "            lon1 = float(coor[coor[\"Country\"] == GroupName[0]].longitude)\n",
    "            x,y = my_map1(lat1,lon1) \n",
    "            my_map1.scatter(x, y, latlon=False, marker=\"o\", s=1000, color=color, zorder=10, edgecolor=\"#000000\", linewidth=1)\n",
    "        else:\n",
    "            lat = float(coor[coor[\"Country\"] == GroupName[i]].latitude)\n",
    "            lon = float(coor[coor[\"Country\"] == GroupName[i]].longitude)\n",
    "            x,y = my_map1(lat,lon)\n",
    "            my_map1.scatter(x, y, latlon=False, marker=\"o\", s=80, color=color, zorder=10, edgecolor=\"#000000\", linewidth=1)\n",
    "            my_map1.drawgreatcircle(lat, lon, lat1, lon1,color=color,linewidth = 2)"
   ]
  },
  {
   "cell_type": "code",
   "execution_count": null,
   "metadata": {
    "collapsed": false,
    "scrolled": false
   },
   "outputs": [],
   "source": [
    "plt.figure(figsize=(24,24))#调节图片大小\n",
    "my_map1 = Basemap(projection='robin', lat_0=70, lon_0=20, resolution='h')\n",
    "my_map1.drawcoastlines();\n",
    "my_map1.drawcountries();\n",
    "draw_group(Group1,\"green\")\n",
    "draw_group(Group2,\"red\")\n",
    "draw_group(Group3,\"blue\")\n",
    "draw_group(Group4,\"yellow\")\n",
    "draw_group(Group5,\"purple\")\n",
    "draw_group(Group6,\"olive\")\n",
    "draw_group(Group7,\"orange\")\n",
    "draw_group(Group8,\"grey\")"
   ]
  },
  {
   "cell_type": "code",
   "execution_count": null,
   "metadata": {
    "collapsed": false
   },
   "outputs": [],
   "source": [
    "plt.figure(figsize=(24,24))#调节图片大小\n",
    "#my_map1 = Basemap(projection='robin', lat_0=70, lon_0=20, resolution='h')\n",
    "my_map1.drawcoastlines();\n",
    "my_map1.drawcountries();\n",
    "draw_group(Group_5_1,\"green\")\n",
    "draw_group(Group_5_2,\"red\")\n",
    "draw_group(Group_5_3,\"blue\")\n",
    "draw_group(Group_5_4,\"purple\")\n",
    "draw_group(Group_5_5,\"olive\")\n",
    "draw_group(Group_5_6,\"orange\")\n",
    "draw_group(Group_5_7,\"grey\")"
   ]
  },
  {
   "cell_type": "code",
   "execution_count": null,
   "metadata": {
    "collapsed": true
   },
   "outputs": [],
   "source": []
  }
 ],
 "metadata": {
  "anaconda-cloud": {},
  "kernelspec": {
   "display_name": "Python [conda root]",
   "language": "python",
   "name": "conda-root-py"
  },
  "language_info": {
   "codemirror_mode": {
    "name": "ipython",
    "version": 3
   },
   "file_extension": ".py",
   "mimetype": "text/x-python",
   "name": "python",
   "nbconvert_exporter": "python",
   "pygments_lexer": "ipython3",
   "version": "3.5.2"
  }
 },
 "nbformat": 4,
 "nbformat_minor": 1
}
