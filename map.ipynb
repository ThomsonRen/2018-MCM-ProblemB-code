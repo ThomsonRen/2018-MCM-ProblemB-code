{
 "cells": [
  {
   "cell_type": "code",
   "execution_count": null,
   "metadata": {
    "collapsed": false
   },
   "outputs": [],
   "source": [
    "import pandas as pd\n",
    "import time\n",
    "import numpy as np \n",
    "from mpl_toolkits.basemap import Basemap\n",
    "from tqdm import tnrange, tqdm_notebook\n",
    "import matplotlib.pyplot as plt;from matplotlib import colors;from matplotlib import cm;\n",
    "%matplotlib inline"
   ]
  },
  {
   "cell_type": "code",
   "execution_count": null,
   "metadata": {
    "collapsed": false
   },
   "outputs": [],
   "source": [
    "data = pd.read_csv(\"result_data2.csv\")\n",
    "coor = pd.read_csv(\"Countries_location.csv\")"
   ]
  },
  {
   "cell_type": "code",
   "execution_count": null,
   "metadata": {
    "collapsed": false
   },
   "outputs": [],
   "source": [
    "countrys = data[\"Country\"]\n",
    "Languages = [\"Chinese\",\"English\",\"Hindi\",\"Urdu\",\"Spanish\",\"Arabic\",\"Malay\",\"Russian\",\"Bengali\",\"Portuguese\",\\\n",
    "             \"French\",\"Hausa\",\"Punjabi\",\"Japanese\",\"German\",\"Persian\"]\n",
    "color_dic = {\"English\":\"blue\",\"Russian\":\"grey\",\"German\":\"olive\",\"Japanese\":\"orange\",\"Spanish\"\\\n",
    "                     :\"purple\",\"French\":\"cyan\",\"Portuguese\":\"gray\",\"Italian\":\"pink\",\"Chinese\":\"red\",\"Hindi\":\"green\",\\\n",
    "                      \"Urdu\":\"green\",\"Arabic\":\"yellow\",\"Malay\":\"black\",\"Bengali\":\"hotpink\",\"Persian\":\"skyblue\",\"Hausa\":\"brown\",\"Punjabi\":\"gold\"}"
   ]
  },
  {
   "cell_type": "code",
   "execution_count": null,
   "metadata": {
    "collapsed": false
   },
   "outputs": [],
   "source": [
    "plt.figure(figsize=(24,24))#调节图片大小\n",
    "my_map1 = Basemap(projection='robin', lat_0=70, lon_0=20, resolution='h')\n",
    "my_map1.drawcoastlines();\n",
    "my_map1.drawcountries();\n",
    "\n",
    "for country in tqdm_notebook(countrys):\n",
    "    num1 = int(data[data[\"Country\"] == country].English)\n",
    "    num2 = int(data[data[\"Country\"] == country].Chinese)\n",
    "    lat = float(coor[coor[\"Country\"] == country].latitude)\n",
    "    lon = float(coor[coor[\"Country\"] == country].longitude)\n",
    "    x,y = my_map1(lat,lon) \n",
    "    if (num1<num2):\n",
    "        my_map1.scatter(x, y, latlon=False, marker=\"o\", s=num2/1e5, color=\"red\", zorder=10, edgecolor=\"#000000\", linewidth=1)\n",
    "        my_map1.scatter(x, y, latlon=False, marker=\"o\", s=num1/1e5, color=\"blue\", zorder=10, edgecolor=\"#000000\", linewidth=1)\n",
    "    else:\n",
    "        my_map1.scatter(x, y, latlon=False, marker=\"o\", s=num1/1e5, color=\"blue\", zorder=10, edgecolor=\"#000000\", linewidth=1)\n",
    "        my_map1.scatter(x, y, latlon=False, marker=\"o\", s=num2/1e5, color=\"red\", zorder=10, edgecolor=\"#000000\", linewidth=1)"
   ]
  },
  {
   "cell_type": "code",
   "execution_count": null,
   "metadata": {
    "collapsed": false
   },
   "outputs": [],
   "source": [
    "plt.figure(figsize=(24,24))#调节图片大小\n",
    "my_map1 = Basemap(projection='robin', lat_0=70, lon_0=20, resolution='h')\n",
    "my_map1.drawcoastlines();\n",
    "my_map1.drawcountries();\n",
    "for country in tqdm_notebook(countrys):\n",
    "    lat = float(coor[coor[\"Country\"] == country].latitude)\n",
    "    lon = float(coor[coor[\"Country\"] == country].longitude)\n",
    "    x,y = my_map1(lat,lon) \n",
    "    for language in Languages:\n",
    "        num = (int(data[data[\"Country\"] == country][language]))\n",
    "        color = color_dic[language]\n",
    "        my_map1.scatter(x, y, latlon=False, marker=\"o\", color = color,s=num/200000,zorder=10, edgecolor=\"#000000\", linewidth=1)"
   ]
  },
  {
   "cell_type": "code",
   "execution_count": null,
   "metadata": {
    "collapsed": false
   },
   "outputs": [],
   "source": [
    "data = pd.read_csv(\"51.csv\")\n",
    "plt.figure(figsize=(24,24))#调节图片大小\n",
    "my_map1.drawcoastlines();\n",
    "my_map1.drawcountries();\n",
    "for country in tqdm_notebook(countrys):\n",
    "    lat = float(coor[coor[\"Country\"] == country].latitude)\n",
    "    lon = float(coor[coor[\"Country\"] == country].longitude)\n",
    "    x,y = my_map1(lat,lon) \n",
    "    polt_dic ={}\n",
    "    plot_list = []\n",
    "    for language in Languages:\n",
    "        num = (int(data[data[\"Country\"] == country][language]))\n",
    "        polt_dic[language] = num\n",
    "        plot_list.append(num)\n",
    "    plot_list2 = sorted(plot_list,reverse= False)\n",
    "    for i in range(len(plot_list)):\n",
    "        size = plot_list2[i]\n",
    "        index = plot_list.index(plot_list2[i])\n",
    "        language = Languages[index]\n",
    "        color = color_dic[language]\n",
    "        my_map1.scatter(x, y, latlon=False, marker=\"o\", color = color,s=size/1e5,zorder=10, edgecolor=\"#000000\", linewidth=1)"
   ]
  },
  {
   "cell_type": "code",
   "execution_count": null,
   "metadata": {
    "collapsed": true
   },
   "outputs": [],
   "source": []
  }
 ],
 "metadata": {
  "anaconda-cloud": {},
  "kernelspec": {
   "display_name": "Python [conda root]",
   "language": "python",
   "name": "conda-root-py"
  },
  "language_info": {
   "codemirror_mode": {
    "name": "ipython",
    "version": 3
   },
   "file_extension": ".py",
   "mimetype": "text/x-python",
   "name": "python",
   "nbconvert_exporter": "python",
   "pygments_lexer": "ipython3",
   "version": "3.5.2"
  }
 },
 "nbformat": 4,
 "nbformat_minor": 1
}
